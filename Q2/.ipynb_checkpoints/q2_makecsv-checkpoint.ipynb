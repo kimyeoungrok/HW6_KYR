{
 "cells": [
  {
   "cell_type": "code",
   "execution_count": 8,
   "id": "459d972c",
   "metadata": {},
   "outputs": [
    {
     "name": "stdout",
     "output_type": "stream",
     "text": [
      "[0, 18, 23, 17, 15, 14, 13]\n",
      "[0, 178, 159, 167, 171, 158, 167]\n",
      "[0, 1688, 1647, 1614, 1708, 1707, 1636]\n",
      "[0, 16660, 16667, 16659, 16644, 16784, 16586]\n"
     ]
    }
   ],
   "source": [
    "import csv\n",
    "import random\n",
    "\n",
    "f = open('q2.csv','w',newline='')\n",
    "wr = csv.writer(f)\n",
    "dice = [0,0,0,0,0,0,0]\n",
    "for i in range(100):\n",
    "    ran = random.randint(1,6)\n",
    "    dice[ran] += 1\n",
    "print(dice)\n",
    "wr.writerow(dice)\n",
    "\n",
    "dice = [0,0,0,0,0,0,0]\n",
    "for i in range(1000):\n",
    "    ran = random.randint(1,6)\n",
    "    dice[ran] += 1\n",
    "print(dice)\n",
    "wr.writerow(dice)\n",
    "dice = [0,0,0,0,0,0,0]\n",
    "for i in range(10000):\n",
    "    ran = random.randint(1,6)\n",
    "    dice[ran] += 1\n",
    "print(dice)\n",
    "wr.writerow(dice)\n",
    "dice = [0,0,0,0,0,0,0]\n",
    "for i in range(100000):\n",
    "    ran = random.randint(1,6)\n",
    "    dice[ran] += 1\n",
    "print(dice)\n",
    "wr.writerow(dice)\n",
    "\n",
    "f.close()"
   ]
  },
  {
   "cell_type": "code",
   "execution_count": null,
   "id": "8b9710d6",
   "metadata": {},
   "outputs": [],
   "source": []
  },
  {
   "cell_type": "code",
   "execution_count": null,
   "id": "dadb4b7c",
   "metadata": {},
   "outputs": [],
   "source": []
  }
 ],
 "metadata": {
  "kernelspec": {
   "display_name": "Python 3 (ipykernel)",
   "language": "python",
   "name": "python3"
  },
  "language_info": {
   "codemirror_mode": {
    "name": "ipython",
    "version": 3
   },
   "file_extension": ".py",
   "mimetype": "text/x-python",
   "name": "python",
   "nbconvert_exporter": "python",
   "pygments_lexer": "ipython3",
   "version": "3.9.1"
  }
 },
 "nbformat": 4,
 "nbformat_minor": 5
}
